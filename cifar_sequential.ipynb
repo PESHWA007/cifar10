{
 "cells": [
  {
   "cell_type": "code",
   "execution_count": 3,
   "id": "e954f5fc",
   "metadata": {},
   "outputs": [],
   "source": [
    "import tensorflow as tf\n",
    "import pandas as pd\n",
    "import numpy as np"
   ]
  },
  {
   "cell_type": "code",
   "execution_count": 4,
   "id": "cb958d7a",
   "metadata": {},
   "outputs": [],
   "source": [
    "from tensorflow.keras import Sequential\n",
    "from tensorflow.python.keras import regularizers\n",
    "from tensorflow.keras.layers import Dense,Dropout,Activation,Flatten"
   ]
  },
  {
   "cell_type": "code",
   "execution_count": 5,
   "id": "96a5a64b",
   "metadata": {},
   "outputs": [],
   "source": [
    "cifar10 = tf.keras.datasets.cifar10\n",
    "(X_train, y_train), (X_test, y_test) = cifar10.load_data()"
   ]
  },
  {
   "cell_type": "code",
   "execution_count": 6,
   "id": "8a9278c7",
   "metadata": {},
   "outputs": [
    {
     "data": {
      "text/plain": [
       "((50000, 32, 32, 3), (50000, 1), (10000, 32, 32, 3), (10000, 1))"
      ]
     },
     "execution_count": 6,
     "metadata": {},
     "output_type": "execute_result"
    }
   ],
   "source": [
    "X_train.shape,y_train.shape,X_test.shape,y_test.shape\n"
   ]
  },
  {
   "cell_type": "code",
   "execution_count": 7,
   "id": "b9c17473",
   "metadata": {},
   "outputs": [
    {
     "data": {
      "text/plain": [
       "(50000, 3072)"
      ]
     },
     "execution_count": 7,
     "metadata": {},
     "output_type": "execute_result"
    }
   ],
   "source": [
    "X_train = X_train.reshape(50000, 32 * 32 * 3)\n",
    "X_test = X_test.reshape(10000, 32 * 32 * 3)\n",
    "X_train.shape\n"
   ]
  },
  {
   "cell_type": "code",
   "execution_count": 8,
   "id": "fe8b1739",
   "metadata": {},
   "outputs": [],
   "source": [
    "X_train = X_train/255.0\n",
    "X_test = X_test/255.0\n"
   ]
  },
  {
   "cell_type": "code",
   "execution_count": 9,
   "id": "7b968bc0",
   "metadata": {},
   "outputs": [],
   "source": [
    "from tensorflow import keras\n",
    "from keras.utils import np_utils\n",
    "num_classes = 10\n",
    "y_train = keras.utils.to_categorical(y_train, num_classes)\n",
    "y_test = keras.utils.to_categorical(y_test, num_classes)"
   ]
  },
  {
   "cell_type": "code",
   "execution_count": 10,
   "id": "f26e7806",
   "metadata": {},
   "outputs": [],
   "source": [
    "model = Sequential() \n",
    "model.add(Dense(1024,input_shape = (3072,),activation=\"relu\"))\n",
    "model.add(Dense(units = 512,activation= \"relu\"))\n",
    "model.add(Dense(units = 256,activation= \"relu\"))\n",
    "model.add(Dropout(0.5))\n",
    "model.add(Dense(units = 128,activation= \"relu\"))\n",
    "model.add(Dropout(0.5))\n",
    "model.add(Dense(units = 64,activation= \"relu\"))\n",
    "model.add(Dense(units = 32,activation= \"relu\"))\n",
    "model.add(Dense(units = 16,activation= \"relu\"))\n",
    "model.add(Dense(units = 10,activation= \"softmax\"))"
   ]
  },
  {
   "cell_type": "code",
   "execution_count": 11,
   "id": "ce74e330",
   "metadata": {},
   "outputs": [
    {
     "name": "stdout",
     "output_type": "stream",
     "text": [
      "Model: \"sequential\"\n",
      "_________________________________________________________________\n",
      " Layer (type)                Output Shape              Param #   \n",
      "=================================================================\n",
      " dense (Dense)               (None, 1024)              3146752   \n",
      "                                                                 \n",
      " dense_1 (Dense)             (None, 512)               524800    \n",
      "                                                                 \n",
      " dense_2 (Dense)             (None, 256)               131328    \n",
      "                                                                 \n",
      " dropout (Dropout)           (None, 256)               0         \n",
      "                                                                 \n",
      " dense_3 (Dense)             (None, 128)               32896     \n",
      "                                                                 \n",
      " dropout_1 (Dropout)         (None, 128)               0         \n",
      "                                                                 \n",
      " dense_4 (Dense)             (None, 64)                8256      \n",
      "                                                                 \n",
      " dense_5 (Dense)             (None, 32)                2080      \n",
      "                                                                 \n",
      " dense_6 (Dense)             (None, 16)                528       \n",
      "                                                                 \n",
      " dense_7 (Dense)             (None, 10)                170       \n",
      "                                                                 \n",
      "=================================================================\n",
      "Total params: 3,846,810\n",
      "Trainable params: 3,846,810\n",
      "Non-trainable params: 0\n",
      "_________________________________________________________________\n"
     ]
    }
   ],
   "source": [
    "model.summary()"
   ]
  },
  {
   "cell_type": "code",
   "execution_count": 12,
   "id": "148c1c03",
   "metadata": {},
   "outputs": [
    {
     "name": "stderr",
     "output_type": "stream",
     "text": [
      "C:\\Users\\nishu\\anaconda3\\lib\\site-packages\\keras\\optimizer_v2\\gradient_descent.py:102: UserWarning: The `lr` argument is deprecated, use `learning_rate` instead.\n",
      "  super(SGD, self).__init__(name, **kwargs)\n"
     ]
    }
   ],
   "source": [
    "from tensorflow.python.keras import regularizers\n",
    "from tensorflow.keras.optimizers import SGD\n",
    "opt = SGD(lr=0.001, momentum=0.9)\n",
    "model.compile(optimizer=opt, loss='categorical_crossentropy', metrics=['accuracy'])"
   ]
  },
  {
   "cell_type": "code",
   "execution_count": 13,
   "id": "ecea54c1",
   "metadata": {},
   "outputs": [
    {
     "name": "stdout",
     "output_type": "stream",
     "text": [
      "Epoch 1/20\n",
      "313/313 [==============================] - 11s 29ms/step - loss: 2.2870 - accuracy: 0.1072 - val_loss: 2.2406 - val_accuracy: 0.1767\n",
      "Epoch 2/20\n",
      "313/313 [==============================] - 8s 26ms/step - loss: 2.2205 - accuracy: 0.1657 - val_loss: 2.1538 - val_accuracy: 0.1921\n",
      "Epoch 3/20\n",
      "313/313 [==============================] - 8s 26ms/step - loss: 2.1462 - accuracy: 0.1928 - val_loss: 2.0939 - val_accuracy: 0.2042\n",
      "Epoch 4/20\n",
      "313/313 [==============================] - 8s 26ms/step - loss: 2.0858 - accuracy: 0.2112 - val_loss: 2.0270 - val_accuracy: 0.2436\n",
      "Epoch 5/20\n",
      "313/313 [==============================] - 8s 26ms/step - loss: 2.0290 - accuracy: 0.2375 - val_loss: 1.9578 - val_accuracy: 0.2705\n",
      "Epoch 6/20\n",
      "313/313 [==============================] - 8s 26ms/step - loss: 1.9743 - accuracy: 0.2631 - val_loss: 1.9177 - val_accuracy: 0.2909\n",
      "Epoch 7/20\n",
      "313/313 [==============================] - 8s 26ms/step - loss: 1.9279 - accuracy: 0.2779 - val_loss: 1.8675 - val_accuracy: 0.3130\n",
      "Epoch 8/20\n",
      "313/313 [==============================] - 8s 26ms/step - loss: 1.8953 - accuracy: 0.2878 - val_loss: 1.8414 - val_accuracy: 0.3212\n",
      "Epoch 9/20\n",
      "313/313 [==============================] - 9s 30ms/step - loss: 1.8696 - accuracy: 0.3008 - val_loss: 1.8073 - val_accuracy: 0.3411\n",
      "Epoch 10/20\n",
      "313/313 [==============================] - 9s 29ms/step - loss: 1.8464 - accuracy: 0.3117 - val_loss: 1.7981 - val_accuracy: 0.3433\n",
      "Epoch 11/20\n",
      "313/313 [==============================] - 8s 27ms/step - loss: 1.8260 - accuracy: 0.3196 - val_loss: 1.7704 - val_accuracy: 0.3608\n",
      "Epoch 12/20\n",
      "313/313 [==============================] - 8s 27ms/step - loss: 1.8063 - accuracy: 0.3324 - val_loss: 1.7476 - val_accuracy: 0.3738\n",
      "Epoch 13/20\n",
      "313/313 [==============================] - 9s 28ms/step - loss: 1.7831 - accuracy: 0.3428 - val_loss: 1.7273 - val_accuracy: 0.3745\n",
      "Epoch 14/20\n",
      "313/313 [==============================] - 9s 27ms/step - loss: 1.7640 - accuracy: 0.3532 - val_loss: 1.6978 - val_accuracy: 0.3894\n",
      "Epoch 15/20\n",
      "313/313 [==============================] - 9s 28ms/step - loss: 1.7422 - accuracy: 0.3598 - val_loss: 1.6930 - val_accuracy: 0.3876\n",
      "Epoch 16/20\n",
      "313/313 [==============================] - 8s 27ms/step - loss: 1.7300 - accuracy: 0.3664 - val_loss: 1.6792 - val_accuracy: 0.3942\n",
      "Epoch 17/20\n",
      "313/313 [==============================] - 8s 27ms/step - loss: 1.7082 - accuracy: 0.3746 - val_loss: 1.6486 - val_accuracy: 0.4071\n",
      "Epoch 18/20\n",
      "313/313 [==============================] - 8s 27ms/step - loss: 1.6900 - accuracy: 0.3808 - val_loss: 1.6404 - val_accuracy: 0.4066\n",
      "Epoch 19/20\n",
      "313/313 [==============================] - 8s 26ms/step - loss: 1.6694 - accuracy: 0.3916 - val_loss: 1.6397 - val_accuracy: 0.4046\n",
      "Epoch 20/20\n",
      "313/313 [==============================] - 8s 26ms/step - loss: 1.6584 - accuracy: 0.3928 - val_loss: 1.6187 - val_accuracy: 0.4163\n"
     ]
    },
    {
     "data": {
      "text/plain": [
       "<keras.callbacks.History at 0x2c2092dbd60>"
      ]
     },
     "execution_count": 13,
     "metadata": {},
     "output_type": "execute_result"
    }
   ],
   "source": [
    "model.fit(X_train, y_train, batch_size=128, epochs=20, validation_split=0.2)"
   ]
  },
  {
   "cell_type": "code",
   "execution_count": 14,
   "id": "a0e5b21f",
   "metadata": {},
   "outputs": [],
   "source": [
    "Y_pred = model.predict(X_test)\n",
    "Y_pred_classes = np.argmax(Y_pred,axis = 1) \n",
    "Y_true = np.argmax(y_test,axis = 1)\n",
    "confusion_mtx = tf.math.confusion_matrix(Y_true, Y_pred_classes)"
   ]
  },
  {
   "cell_type": "code",
   "execution_count": 15,
   "id": "fa59bd2d",
   "metadata": {},
   "outputs": [
    {
     "name": "stdout",
     "output_type": "stream",
     "text": [
      "              precision    recall  f1-score   support\n",
      "\n",
      "           0       0.51      0.48      0.50      1000\n",
      "           1       0.44      0.71      0.54      1000\n",
      "           2       0.33      0.14      0.20      1000\n",
      "           3       0.30      0.20      0.24      1000\n",
      "           4       0.37      0.30      0.33      1000\n",
      "           5       0.37      0.38      0.37      1000\n",
      "           6       0.38      0.62      0.47      1000\n",
      "           7       0.48      0.39      0.43      1000\n",
      "           8       0.56      0.57      0.56      1000\n",
      "           9       0.42      0.43      0.43      1000\n",
      "\n",
      "    accuracy                           0.42     10000\n",
      "   macro avg       0.42      0.42      0.41     10000\n",
      "weighted avg       0.42      0.42      0.41     10000\n",
      "\n"
     ]
    }
   ],
   "source": [
    "from sklearn.metrics import classification_report\n",
    "from sklearn import metrics\n",
    "print(classification_report(Y_true, Y_pred_classes))"
   ]
  },
  {
   "cell_type": "code",
   "execution_count": 16,
   "id": "7434a406",
   "metadata": {},
   "outputs": [],
   "source": [
    "model.save(\"cifar_seq.h5\")"
   ]
  },
  {
   "cell_type": "code",
   "execution_count": null,
   "id": "304c8473",
   "metadata": {},
   "outputs": [],
   "source": []
  }
 ],
 "metadata": {
  "kernelspec": {
   "display_name": "Python 3 (ipykernel)",
   "language": "python",
   "name": "python3"
  },
  "language_info": {
   "codemirror_mode": {
    "name": "ipython",
    "version": 3
   },
   "file_extension": ".py",
   "mimetype": "text/x-python",
   "name": "python",
   "nbconvert_exporter": "python",
   "pygments_lexer": "ipython3",
   "version": "3.9.7"
  }
 },
 "nbformat": 4,
 "nbformat_minor": 5
}
